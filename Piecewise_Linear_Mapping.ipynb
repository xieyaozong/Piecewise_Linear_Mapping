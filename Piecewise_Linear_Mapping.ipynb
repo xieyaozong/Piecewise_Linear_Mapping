{
 "cells": [
  {
   "cell_type": "code",
   "execution_count": 1,
   "id": "72ab96c1",
   "metadata": {},
   "outputs": [],
   "source": [
    "import cv2 as cv\n",
    "import math\n",
    "import numpy as np\n",
    "import matplotlib.pyplot as plt\n",
    "from PIL import Image"
   ]
  },
  {
   "cell_type": "code",
   "execution_count": 2,
   "id": "f9cce36b",
   "metadata": {},
   "outputs": [],
   "source": [
    "f_path = '1.jpg' \n",
    "#file location"
   ]
  },
  {
   "cell_type": "code",
   "execution_count": 3,
   "id": "ed07b225",
   "metadata": {},
   "outputs": [],
   "source": [
    "image = cv.imread(f_path,cv.IMREAD_GRAYSCALE)"
   ]
  },
  {
   "cell_type": "code",
   "execution_count": 4,
   "id": "e322e34b",
   "metadata": {},
   "outputs": [
    {
     "data": {
      "text/plain": [
       "True"
      ]
     },
     "execution_count": 4,
     "metadata": {},
     "output_type": "execute_result"
    }
   ],
   "source": [
    "cv.imwrite('image1.jpg', image)"
   ]
  },
  {
   "cell_type": "code",
   "execution_count": 5,
   "id": "66c3d711",
   "metadata": {},
   "outputs": [
    {
     "data": {
      "text/plain": [
       "96"
      ]
     },
     "execution_count": 5,
     "metadata": {},
     "output_type": "execute_result"
    }
   ],
   "source": [
    "image[0,0]"
   ]
  },
  {
   "cell_type": "code",
   "execution_count": 6,
   "id": "ceb004d6",
   "metadata": {},
   "outputs": [],
   "source": [
    "image_height,image_width = image.shape[:2]"
   ]
  },
  {
   "cell_type": "code",
   "execution_count": 7,
   "id": "e953dc9d",
   "metadata": {},
   "outputs": [
    {
     "name": "stdout",
     "output_type": "stream",
     "text": [
      "1024 673\n"
     ]
    }
   ],
   "source": [
    "print(image_width,image_height)"
   ]
  },
  {
   "cell_type": "code",
   "execution_count": 8,
   "id": "338b8101",
   "metadata": {},
   "outputs": [],
   "source": [
    "gray_value = cv.calcHist([image], [0], None, [256], [0, 256])\n",
    "#number calculate"
   ]
  },
  {
   "cell_type": "code",
   "execution_count": 9,
   "id": "7c281a31",
   "metadata": {},
   "outputs": [
    {
     "name": "stdout",
     "output_type": "stream",
     "text": [
      "[3055.]\n"
     ]
    }
   ],
   "source": [
    "print(gray_value[255])"
   ]
  },
  {
   "cell_type": "code",
   "execution_count": 10,
   "id": "02f405be",
   "metadata": {
    "scrolled": true
   },
   "outputs": [
    {
     "data": {
      "image/png": "[encoded data removed]",
      "text/plain": [
       "<Figure size 432x288 with 1 Axes>"
      ]
     },
     "metadata": {
      "needs_background": "light"
     },
     "output_type": "display_data"
    }
   ],
   "source": [
    "plt.plot(gray_value)\n",
    "plt.show()"
   ]
  },
  {
   "cell_type": "code",
   "execution_count": 11,
   "id": "2a2c2263",
   "metadata": {},
   "outputs": [],
   "source": [
    "p = {}\n",
    "caculate=0\n",
    "for i in range(256) :\n",
    "    p[i] = int(gray_value[i])/(image_width*image_height)"
   ]
  },
  {
   "cell_type": "code",
   "execution_count": 12,
   "id": "b4e4d50e",
   "metadata": {},
   "outputs": [
    {
     "name": "stdout",
     "output_type": "stream",
     "text": [
      "0.004432984305349183\n"
     ]
    }
   ],
   "source": [
    "print(p[255])"
   ]
  },
  {
   "cell_type": "code",
   "execution_count": 13,
   "id": "b18d8934",
   "metadata": {},
   "outputs": [
    {
     "name": "stdout",
     "output_type": "stream",
     "text": [
      "0.029377894776959367\n"
     ]
    }
   ],
   "source": [
    "sigmap = 0.0\n",
    "sum_num = 0\n",
    "for i in range(256):\n",
    "    if (p[i] > 0):\n",
    "        logp = p[i] * math.log2(p[i])\n",
    "        sigmap += logp\n",
    "        sum_num += 1\n",
    "sigmap*= -1\n",
    "entropy = sigmap/sum_num\n",
    "print(entropy)\n",
    "#entropy"
   ]
  },
  {
   "cell_type": "code",
   "execution_count": 14,
   "id": "38857a19",
   "metadata": {},
   "outputs": [],
   "source": [
    "xMin = image.min() \n",
    "xMax = image.max()  \n",
    "x1, y1 = xMin, 0  \n",
    "x2, y2 = xMax, 255  "
   ]
  },
  {
   "cell_type": "code",
   "execution_count": 15,
   "id": "e690cfda",
   "metadata": {},
   "outputs": [
    {
     "data": {
      "text/plain": [
       "(0, 0, 255, 255)"
      ]
     },
     "execution_count": 15,
     "metadata": {},
     "output_type": "execute_result"
    }
   ],
   "source": [
    "x1, y1 ,x2, y2"
   ]
  },
  {
   "cell_type": "code",
   "execution_count": 16,
   "id": "b4b380ad",
   "metadata": {},
   "outputs": [
    {
     "name": "stderr",
     "output_type": "stream",
     "text": [
      "C:\\Users\\User\\AppData\\Local\\Temp\\ipykernel_31680\\2267092086.py:7: RuntimeWarning: invalid value encountered in true_divide\n",
      "  image2[i,j] = image2[i,j]*(y1/x1)\n"
     ]
    }
   ],
   "source": [
    "image2 = image.copy()\n",
    "image_height2,image_width2= image2.shape[:2]\n",
    "\n",
    "for i in range(0,image_height2):\n",
    "    for j in range(0, image_width2):\n",
    "        if image2[i,j] <= x1:\n",
    "            image2[i,j] = image2[i,j]*(y1/x1)\n",
    "                \n",
    "        elif image2[i,j] <= x2:\n",
    "            image2[i,j] = (image2[i,j]-x1)*((y2-y1)/(x2-x1))+x1\n",
    "                \n",
    "        else:\n",
    "            image2[i,j] = (image2[i,j]-x2)*((255.-y2)/(255.-x2))+x2"
   ]
  },
  {
   "cell_type": "code",
   "execution_count": 17,
   "id": "80e9dd5b",
   "metadata": {},
   "outputs": [
    {
     "data": {
      "text/plain": [
       "True"
      ]
     },
     "execution_count": 17,
     "metadata": {},
     "output_type": "execute_result"
    }
   ],
   "source": [
    "cv.imwrite('image2.jpg', image2)"
   ]
  },
  {
   "cell_type": "code",
   "execution_count": null,
   "id": "4549804b",
   "metadata": {},
   "outputs": [],
   "source": []
  }
 ],
 "metadata": {
  "kernelspec": {
   "display_name": "Python 3",
   "language": "python",
   "name": "python3"
  },
  "language_info": {
   "codemirror_mode": {
    "name": "ipython",
    "version": 3
   },
   "file_extension": ".py",
   "mimetype": "text/x-python",
   "name": "python",
   "nbconvert_exporter": "python",
   "pygments_lexer": "ipython3",
   "version": "3.9.12"
  }
 },
 "nbformat": 4,
 "nbformat_minor": 5
}
